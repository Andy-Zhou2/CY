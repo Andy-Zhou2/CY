{
 "cells": [
  {
   "cell_type": "code",
   "execution_count": 35,
   "metadata": {
    "collapsed": true
   },
   "outputs": [
    {
     "data": {
      "text/plain": "⌠           \n⎮     ___   \n⎮    ╱ 1    \n⎮   ╱  ─  dx\n⎮ ╲╱   x    \n⌡           ",
      "image/png": "[encoded data removed]",
      "text/latex": "$\\displaystyle \\int \\sqrt{\\frac{1}{x}}\\, dx$"
     },
     "execution_count": 35,
     "metadata": {},
     "output_type": "execute_result"
    }
   ],
   "source": [
    "from sympy import *\n",
    "init_printing()\n",
    "x = symbols('x')\n",
    "a = Integral(sqrt(1/x), x)\n",
    "a"
   ]
  },
  {
   "cell_type": "code",
   "execution_count": 36,
   "outputs": [
    {
     "data": {
      "text/plain": "        ___\n       ╱ 1 \n2⋅x⋅  ╱  ─ \n    ╲╱   x ",
      "image/png": "[encoded data removed]",
      "text/latex": "$\\displaystyle 2 x \\sqrt{\\frac{1}{x}}$"
     },
     "execution_count": 36,
     "metadata": {},
     "output_type": "execute_result"
    }
   ],
   "source": [
    "a.doit()\n"
   ],
   "metadata": {
    "collapsed": false,
    "pycharm": {
     "name": "#%%\n"
    }
   }
  },
  {
   "cell_type": "code",
   "execution_count": 37,
   "outputs": [
    {
     "data": {
      "text/plain": "   ⎛ 2⎞\nsin⎝x ⎠",
      "image/png": "[encoded data removed]",
      "text/latex": "$\\displaystyle \\sin{\\left(x^{2} \\right)}$"
     },
     "execution_count": 37,
     "metadata": {},
     "output_type": "execute_result"
    }
   ],
   "source": [
    "sin(x**2)"
   ],
   "metadata": {
    "collapsed": false,
    "pycharm": {
     "name": "#%%\n"
    }
   }
  },
  {
   "cell_type": "code",
   "execution_count": 38,
   "outputs": [
    {
     "data": {
      "text/plain": "√2⋅√π\n─────\n  2  ",
      "image/png": "[encoded data removed]",
      "text/latex": "$\\displaystyle \\frac{\\sqrt{2} \\sqrt{\\pi}}{2}$"
     },
     "execution_count": 38,
     "metadata": {},
     "output_type": "execute_result"
    }
   ],
   "source": [
    "integrate(sin(x**2), (x, -oo, oo))"
   ],
   "metadata": {
    "collapsed": false,
    "pycharm": {
     "name": "#%%\n"
    }
   }
  },
  {
   "cell_type": "code",
   "execution_count": 39,
   "outputs": [
    {
     "data": {
      "text/plain": "1",
      "image/png": "[encoded data removed]",
      "text/latex": "$\\displaystyle 1$"
     },
     "execution_count": 39,
     "metadata": {},
     "output_type": "execute_result"
    }
   ],
   "source": [
    "limit(sin(x)/x, x, 0)"
   ],
   "metadata": {
    "collapsed": false,
    "pycharm": {
     "name": "#%%\n"
    }
   }
  },
  {
   "cell_type": "code",
   "execution_count": 40,
   "outputs": [
    {
     "data": {
      "text/plain": "[-√2, √2]",
      "image/png": "[encoded data removed]",
      "text/latex": "$\\displaystyle \\left[ - \\sqrt{2}, \\  \\sqrt{2}\\right]$"
     },
     "execution_count": 40,
     "metadata": {},
     "output_type": "execute_result"
    }
   ],
   "source": [
    "solve(x**2 - 2, x)"
   ],
   "metadata": {
    "collapsed": false,
    "pycharm": {
     "name": "#%%\n"
    }
   }
  },
  {
   "cell_type": "code",
   "execution_count": 41,
   "outputs": [
    {
     "data": {
      "text/plain": "           -t   ⎛     t⎞  t\ny(t) = C₂⋅ℯ   + ⎜C₁ + ─⎟⋅ℯ \n                ⎝     2⎠   ",
      "image/png": "[encoded data removed]",
      "text/latex": "$\\displaystyle y{\\left(t \\right)} = C_{2} e^{- t} + \\left(C_{1} + \\frac{t}{2}\\right) e^{t}$"
     },
     "execution_count": 41,
     "metadata": {},
     "output_type": "execute_result"
    }
   ],
   "source": [
    "t  = symbols('t')\n",
    "y = Function('y')\n",
    "dsolve(Eq(y(t).diff(t, t) - y(t), exp(t)), y(t))"
   ],
   "metadata": {
    "collapsed": false,
    "pycharm": {
     "name": "#%%\n"
    }
   }
  },
  {
   "cell_type": "code",
   "execution_count": 42,
   "outputs": [
    {
     "data": {
      "text/plain": "⎡           __________________             __________________⎤\n⎢          ╱         4      3             ╱         4      3 ⎥\n⎢       -╲╱  C₁ - 9⋅x  - 6⋅x            ╲╱  C₁ - 9⋅x  - 6⋅x  ⎥\n⎢y(x) = ───────────────────────, y(x) = ─────────────────────⎥\n⎣                 3⋅x                            3⋅x         ⎦",
      "image/png": "[encoded data removed]",
      "text/latex": "$\\displaystyle \\left[ y{\\left(x \\right)} = - \\frac{\\sqrt{C_{1} - 9 x^{4} - 6 x^{3}}}{3 x}, \\  y{\\left(x \\right)} = \\frac{\\sqrt{C_{1} - 9 x^{4} - 6 x^{3}}}{3 x}\\right]$"
     },
     "execution_count": 42,
     "metadata": {},
     "output_type": "execute_result"
    }
   ],
   "source": [
    "y = Function('y')\n",
    "dsolve(Eq(y(x).diff(x), -(2*x**2+y(x)**2+x)/(x*y(x))), y(x))"
   ],
   "metadata": {
    "collapsed": false,
    "pycharm": {
     "name": "#%%\n"
    }
   }
  },
  {
   "cell_type": "code",
   "execution_count": 43,
   "outputs": [
    {
     "data": {
      "text/plain": "    __________________ \n   ╱         4      3  \n-╲╱  C₁ - 9⋅x  - 6⋅x   \n───────────────────────\n          3⋅x          ",
      "image/png": "[encoded data removed]",
      "text/latex": "$\\displaystyle - \\frac{\\sqrt{C_{1} - 9 x^{4} - 6 x^{3}}}{3 x}$"
     },
     "execution_count": 43,
     "metadata": {},
     "output_type": "execute_result"
    }
   ],
   "source": [
    "s1 = dsolve(Eq(y(x).diff(x), -(2*x**2+y(x)**2+x)/(x*y(x))), y(x))[0]\n",
    "s1.rhs"
   ],
   "metadata": {
    "collapsed": false,
    "pycharm": {
     "name": "#%%\n"
    }
   }
  },
  {
   "cell_type": "code",
   "execution_count": 44,
   "outputs": [
    {
     "name": "stdout",
     "output_type": "stream",
     "text": [
      "\\int\\limits_{0}^{\\pi} \\cos^{2}{\\left(x \\right)}\\, dx\n"
     ]
    }
   ],
   "source": [
    "print(latex(Integral(cos(x)**2, (x, 0, pi))))"
   ],
   "metadata": {
    "collapsed": false,
    "pycharm": {
     "name": "#%%\n"
    }
   }
  },
  {
   "cell_type": "code",
   "execution_count": 45,
   "outputs": [
    {
     "data": {
      "text/plain": "0",
      "image/png": "[encoded data removed]",
      "text/latex": "$\\displaystyle 0$"
     },
     "execution_count": 45,
     "metadata": {},
     "output_type": "execute_result"
    }
   ],
   "source": [
    "a = cos(x)**2 - sin(x)**2\n",
    "b = cos(2*x)\n",
    "a.equals(b)\n",
    "simplify(a-b)\n"
   ],
   "metadata": {
    "collapsed": false,
    "pycharm": {
     "name": "#%%\n"
    }
   }
  },
  {
   "cell_type": "code",
   "execution_count": 46,
   "outputs": [
    {
     "data": {
      "text/plain": "x + 0.5",
      "image/png": "[encoded data removed]",
      "text/latex": "$\\displaystyle x + 0.5$"
     },
     "execution_count": 46,
     "metadata": {},
     "output_type": "execute_result"
    }
   ],
   "source": [
    "x + 1/2"
   ],
   "metadata": {
    "collapsed": false,
    "pycharm": {
     "name": "#%%\n"
    }
   }
  },
  {
   "cell_type": "code",
   "execution_count": 47,
   "outputs": [
    {
     "data": {
      "text/plain": "x + 0.5",
      "image/png": "[encoded data removed]",
      "text/latex": "$\\displaystyle x + 0.5$"
     },
     "execution_count": 47,
     "metadata": {},
     "output_type": "execute_result"
    }
   ],
   "source": [
    "x + 0.5"
   ],
   "metadata": {
    "collapsed": false,
    "pycharm": {
     "name": "#%%\n"
    }
   }
  },
  {
   "cell_type": "code",
   "execution_count": 48,
   "outputs": [
    {
     "data": {
      "text/plain": "x + 1/2",
      "image/png": "[encoded data removed]",
      "text/latex": "$\\displaystyle x + \\frac{1}{2}$"
     },
     "execution_count": 48,
     "metadata": {},
     "output_type": "execute_result"
    }
   ],
   "source": [
    "x + Rational(1, 2)"
   ],
   "metadata": {
    "collapsed": false,
    "pycharm": {
     "name": "#%%\n"
    }
   }
  },
  {
   "cell_type": "code",
   "execution_count": 49,
   "outputs": [
    {
     "name": "stdout",
     "output_type": "stream",
     "text": [
      "Eq(Integral(exp(y)*cos(x), x), exp(y)*sin(x))\n",
      "x + 2*y\n",
      "2*y\n",
      "x**2 + 2*x*y\n",
      "exp(x)*sin(x) + exp(x)*cos(x)\n"
     ]
    },
    {
     "data": {
      "text/plain": " x           x       \nℯ ⋅sin(x) + ℯ ⋅cos(x)",
      "image/png": "[encoded data removed]",
      "text/latex": "$\\displaystyle e^{x} \\sin{\\left(x \\right)} + e^{x} \\cos{\\left(x \\right)}$"
     },
     "execution_count": 49,
     "metadata": {},
     "output_type": "execute_result"
    }
   ],
   "source": [
    "from sympy import *\n",
    "x = Symbol('x')\n",
    "y = Symbol('y')\n",
    "a = Integral(cos(x) * exp(y), x)\n",
    "print(Eq(a, a.doit()))\n",
    "\n",
    "expr = x + 2 * y\n",
    "print(expr)\n",
    "print(expr - x)\n",
    "\n",
    "print(expand(x * expr))\n",
    "\n",
    "init_printing(use_unicode=True)\n",
    "print(diff(sin(x)*exp(x), x))\n",
    "diff(sin(x)*exp(x), x)"
   ],
   "metadata": {
    "collapsed": false,
    "pycharm": {
     "name": "#%%\n"
    }
   }
  },
  {
   "cell_type": "code",
   "execution_count": 50,
   "outputs": [
    {
     "data": {
      "text/plain": "zoo",
      "image/png": "[encoded data removed]",
      "text/latex": "$\\displaystyle \\tilde{\\infty}$"
     },
     "execution_count": 50,
     "metadata": {},
     "output_type": "execute_result"
    }
   ],
   "source": [
    "Rational(1, 0)"
   ],
   "metadata": {
    "collapsed": false,
    "pycharm": {
     "name": "#%%\n"
    }
   }
  },
  {
   "cell_type": "code",
   "execution_count": 51,
   "outputs": [
    {
     "data": {
      "text/plain": "<function sympy.core.function.diff(f, *symbols, **kwargs)>"
     },
     "execution_count": 51,
     "metadata": {},
     "output_type": "execute_result"
    }
   ],
   "source": [
    "diff\n",
    "#diff(x, x.conjugate())"
   ],
   "metadata": {
    "collapsed": false,
    "pycharm": {
     "name": "#%%\n"
    }
   }
  },
  {
   "cell_type": "code",
   "execution_count": 52,
   "outputs": [
    {
     "name": "stdout",
     "output_type": "stream",
     "text": [
      "_\n",
      "x\n"
     ]
    }
   ],
   "source": [
    "pprint(x.conjugate())"
   ],
   "metadata": {
    "collapsed": false,
    "pycharm": {
     "name": "#%%\n"
    }
   }
  },
  {
   "cell_type": "code",
   "execution_count": 54,
   "outputs": [
    {
     "data": {
      "text/plain": "-2",
      "image/png": "[encoded data removed]",
      "text/latex": "$\\displaystyle -2$"
     },
     "execution_count": 54,
     "metadata": {},
     "output_type": "execute_result"
    }
   ],
   "source": [
    "g = Matrix([[1,2], [3,4]])\n",
    "det(g)"
   ],
   "metadata": {
    "collapsed": false,
    "pycharm": {
     "name": "#%%\n"
    }
   }
  },
  {
   "cell_type": "code",
   "execution_count": 55,
   "outputs": [
    {
     "data": {
      "text/plain": "3 + 3⋅ⅈ",
      "image/png": "[encoded data removed]",
      "text/latex": "$\\displaystyle 3 + 3 i$"
     },
     "execution_count": 55,
     "metadata": {},
     "output_type": "execute_result"
    }
   ],
   "source": [
    "3 + I*3"
   ],
   "metadata": {
    "collapsed": false,
    "pycharm": {
     "name": "#%%\n"
    }
   }
  }
 ],
 "metadata": {
  "kernelspec": {
   "name": "pycharm-d5578489",
   "language": "python",
   "display_name": "PyCharm (CY)"
  },
  "language_info": {
   "codemirror_mode": {
    "name": "ipython",
    "version": 2
   },
   "file_extension": ".py",
   "mimetype": "text/x-python",
   "name": "python",
   "nbconvert_exporter": "python",
   "pygments_lexer": "ipython2",
   "version": "2.7.6"
  }
 },
 "nbformat": 4,
 "nbformat_minor": 0
}