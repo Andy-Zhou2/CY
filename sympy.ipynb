{
 "cells": [
  {
   "cell_type": "code",
   "execution_count": 14,
   "metadata": {
    "collapsed": true
   },
   "outputs": [
    {
     "data": {
      "text/plain": "⌠           \n⎮     ___   \n⎮    ╱ 1    \n⎮   ╱  ─  dx\n⎮ ╲╱   x    \n⌡           ",
      "image/png": "[encoded data removed]",
      "text/latex": "$\\displaystyle \\int \\sqrt{\\frac{1}{x}}\\, dx$"
     },
     "execution_count": 14,
     "metadata": {},
     "output_type": "execute_result"
    }
   ],
   "source": [
    "from sympy import *\n",
    "init_printing()\n",
    "x = symbols('x')\n",
    "a = Integral(sqrt(1/x), x)\n",
    "a"
   ]
  },
  {
   "cell_type": "code",
   "execution_count": 15,
   "outputs": [
    {
     "data": {
      "text/plain": "        ___\n       ╱ 1 \n2⋅x⋅  ╱  ─ \n    ╲╱   x ",
      "image/png": "[encoded data removed]",
      "text/latex": "$\\displaystyle 2 x \\sqrt{\\frac{1}{x}}$"
     },
     "execution_count": 15,
     "metadata": {},
     "output_type": "execute_result"
    }
   ],
   "source": [
    "a.doit()\n"
   ],
   "metadata": {
    "collapsed": false,
    "pycharm": {
     "name": "#%%\n"
    }
   }
  },
  {
   "cell_type": "code",
   "execution_count": 16,
   "outputs": [
    {
     "data": {
      "text/plain": "   ⎛ 2⎞\nsin⎝x ⎠",
      "image/png": "[encoded data removed]",
      "text/latex": "$\\displaystyle \\sin{\\left(x^{2} \\right)}$"
     },
     "execution_count": 16,
     "metadata": {},
     "output_type": "execute_result"
    }
   ],
   "source": [
    "sin(x**2)"
   ],
   "metadata": {
    "collapsed": false,
    "pycharm": {
     "name": "#%%\n"
    }
   }
  },
  {
   "cell_type": "code",
   "execution_count": 17,
   "outputs": [
    {
     "data": {
      "text/plain": "√2⋅√π\n─────\n  2  ",
      "image/png": "[encoded data removed]",
      "text/latex": "$\\displaystyle \\frac{\\sqrt{2} \\sqrt{\\pi}}{2}$"
     },
     "execution_count": 17,
     "metadata": {},
     "output_type": "execute_result"
    }
   ],
   "source": [
    "integrate(sin(x**2), (x, -oo, oo))"
   ],
   "metadata": {
    "collapsed": false,
    "pycharm": {
     "name": "#%%\n"
    }
   }
  },
  {
   "cell_type": "code",
   "execution_count": 18,
   "outputs": [
    {
     "data": {
      "text/plain": "1",
      "image/png": "[encoded data removed]",
      "text/latex": "$\\displaystyle 1$"
     },
     "execution_count": 18,
     "metadata": {},
     "output_type": "execute_result"
    }
   ],
   "source": [
    "limit(sin(x)/x, x, 0)"
   ],
   "metadata": {
    "collapsed": false,
    "pycharm": {
     "name": "#%%\n"
    }
   }
  },
  {
   "cell_type": "code",
   "execution_count": 19,
   "outputs": [
    {
     "data": {
      "text/plain": "[-√2, √2]",
      "image/png": "[encoded data removed]",
      "text/latex": "$\\displaystyle \\left[ - \\sqrt{2}, \\  \\sqrt{2}\\right]$"
     },
     "execution_count": 19,
     "metadata": {},
     "output_type": "execute_result"
    }
   ],
   "source": [
    "solve(x**2 - 2, x)"
   ],
   "metadata": {
    "collapsed": false,
    "pycharm": {
     "name": "#%%\n"
    }
   }
  },
  {
   "cell_type": "code",
   "execution_count": 20,
   "outputs": [
    {
     "data": {
      "text/plain": "           -t   ⎛     t⎞  t\ny(t) = C₂⋅ℯ   + ⎜C₁ + ─⎟⋅ℯ \n                ⎝     2⎠   ",
      "image/png": "[encoded data removed]",
      "text/latex": "$\\displaystyle y{\\left(t \\right)} = C_{2} e^{- t} + \\left(C_{1} + \\frac{t}{2}\\right) e^{t}$"
     },
     "execution_count": 20,
     "metadata": {},
     "output_type": "execute_result"
    }
   ],
   "source": [
    "t  = symbols('t')\n",
    "y = Function('y')\n",
    "dsolve(Eq(y(t).diff(t, t) - y(t), exp(t)), y(t))"
   ],
   "metadata": {
    "collapsed": false,
    "pycharm": {
     "name": "#%%\n"
    }
   }
  },
  {
   "cell_type": "code",
   "execution_count": 21,
   "outputs": [
    {
     "data": {
      "text/plain": "⎡           __________________             __________________⎤\n⎢          ╱         4      3             ╱         4      3 ⎥\n⎢       -╲╱  C₁ - 9⋅x  - 6⋅x            ╲╱  C₁ - 9⋅x  - 6⋅x  ⎥\n⎢y(x) = ───────────────────────, y(x) = ─────────────────────⎥\n⎣                 3⋅x                            3⋅x         ⎦",
      "image/png": "[encoded data removed]",
      "text/latex": "$\\displaystyle \\left[ y{\\left(x \\right)} = - \\frac{\\sqrt{C_{1} - 9 x^{4} - 6 x^{3}}}{3 x}, \\  y{\\left(x \\right)} = \\frac{\\sqrt{C_{1} - 9 x^{4} - 6 x^{3}}}{3 x}\\right]$"
     },
     "execution_count": 21,
     "metadata": {},
     "output_type": "execute_result"
    }
   ],
   "source": [
    "y = Function('y')\n",
    "dsolve(Eq(y(x).diff(x), -(2*x**2+y(x)**2+x)/(x*y(x))), y(x))"
   ],
   "metadata": {
    "collapsed": false,
    "pycharm": {
     "name": "#%%\n"
    }
   }
  },
  {
   "cell_type": "code",
   "execution_count": 22,
   "outputs": [
    {
     "data": {
      "text/plain": "    __________________ \n   ╱         4      3  \n-╲╱  C₁ - 9⋅x  - 6⋅x   \n───────────────────────\n          3⋅x          ",
      "image/png": "[encoded data removed]",
      "text/latex": "$\\displaystyle - \\frac{\\sqrt{C_{1} - 9 x^{4} - 6 x^{3}}}{3 x}$"
     },
     "execution_count": 22,
     "metadata": {},
     "output_type": "execute_result"
    }
   ],
   "source": [
    "s1 = dsolve(Eq(y(x).diff(x), -(2*x**2+y(x)**2+x)/(x*y(x))), y(x))[0]\n",
    "s1.rhs"
   ],
   "metadata": {
    "collapsed": false,
    "pycharm": {
     "name": "#%%\n"
    }
   }
  },
  {
   "cell_type": "code",
   "execution_count": 23,
   "outputs": [
    {
     "name": "stdout",
     "output_type": "stream",
     "text": [
      "\\int\\limits_{0}^{\\pi} \\cos^{2}{\\left(x \\right)}\\, dx\n"
     ]
    }
   ],
   "source": [
    "print(latex(Integral(cos(x)**2, (x, 0, pi))))"
   ],
   "metadata": {
    "collapsed": false,
    "pycharm": {
     "name": "#%%\n"
    }
   }
  },
  {
   "cell_type": "code",
   "execution_count": 24,
   "outputs": [
    {
     "data": {
      "text/plain": "0",
      "image/png": "[encoded data removed]",
      "text/latex": "$\\displaystyle 0$"
     },
     "execution_count": 24,
     "metadata": {},
     "output_type": "execute_result"
    }
   ],
   "source": [
    "a = cos(x)**2 - sin(x)**2\n",
    "b = cos(2*x)\n",
    "a.equals(b)\n",
    "simplify(a-b)\n"
   ],
   "metadata": {
    "collapsed": false,
    "pycharm": {
     "name": "#%%\n"
    }
   }
  },
  {
   "cell_type": "code",
   "execution_count": 25,
   "outputs": [
    {
     "data": {
      "text/plain": "x + 0.5",
      "image/png": "[encoded data removed]",
      "text/latex": "$\\displaystyle x + 0.5$"
     },
     "execution_count": 25,
     "metadata": {},
     "output_type": "execute_result"
    }
   ],
   "source": [
    "x + 1/2"
   ],
   "metadata": {
    "collapsed": false,
    "pycharm": {
     "name": "#%%\n"
    }
   }
  },
  {
   "cell_type": "code",
   "execution_count": 26,
   "outputs": [
    {
     "data": {
      "text/plain": "x + 0.5",
      "image/png": "[encoded data removed]",
      "text/latex": "$\\displaystyle x + 0.5$"
     },
     "execution_count": 26,
     "metadata": {},
     "output_type": "execute_result"
    }
   ],
   "source": [
    "x + 0.5"
   ],
   "metadata": {
    "collapsed": false,
    "pycharm": {
     "name": "#%%\n"
    }
   }
  },
  {
   "cell_type": "code",
   "execution_count": 27,
   "outputs": [
    {
     "data": {
      "text/plain": "x + 1/2",
      "image/png": "[encoded data removed]",
      "text/latex": "$\\displaystyle x + \\frac{1}{2}$"
     },
     "execution_count": 27,
     "metadata": {},
     "output_type": "execute_result"
    }
   ],
   "source": [
    "x + Rational(1, 2)"
   ],
   "metadata": {
    "collapsed": false,
    "pycharm": {
     "name": "#%%\n"
    }
   }
  },
  {
   "cell_type": "code",
   "execution_count": 28,
   "outputs": [
    {
     "name": "stdout",
     "output_type": "stream",
     "text": [
      "Eq(Integral(exp(y)*cos(x), x), exp(y)*sin(x))\n",
      "x + 2*y\n",
      "2*y\n",
      "x**2 + 2*x*y\n",
      "exp(x)*sin(x) + exp(x)*cos(x)\n"
     ]
    },
    {
     "data": {
      "text/plain": " x           x       \nℯ ⋅sin(x) + ℯ ⋅cos(x)",
      "image/png": "[encoded data removed]",
      "text/latex": "$\\displaystyle e^{x} \\sin{\\left(x \\right)} + e^{x} \\cos{\\left(x \\right)}$"
     },
     "execution_count": 28,
     "metadata": {},
     "output_type": "execute_result"
    }
   ],
   "source": [
    "from sympy import *\n",
    "x = Symbol('x')\n",
    "y = Symbol('y')\n",
    "a = Integral(cos(x) * exp(y), x)\n",
    "print(Eq(a, a.doit()))\n",
    "\n",
    "expr = x + 2 * y\n",
    "print(expr)\n",
    "print(expr - x)\n",
    "\n",
    "print(expand(x * expr))\n",
    "\n",
    "init_printing(use_unicode=True)\n",
    "print(diff(sin(x)*exp(x), x))\n",
    "diff(sin(x)*exp(x), x)"
   ],
   "metadata": {
    "collapsed": false,
    "pycharm": {
     "name": "#%%\n"
    }
   }
  },
  {
   "cell_type": "code",
   "execution_count": 29,
   "outputs": [
    {
     "data": {
      "text/plain": "zoo",
      "image/png": "[encoded data removed]",
      "text/latex": "$\\displaystyle \\tilde{\\infty}$"
     },
     "execution_count": 29,
     "metadata": {},
     "output_type": "execute_result"
    }
   ],
   "source": [
    "Rational(1, 0)"
   ],
   "metadata": {
    "collapsed": false,
    "pycharm": {
     "name": "#%%\n"
    }
   }
  },
  {
   "cell_type": "code",
   "execution_count": 32,
   "outputs": [
    {
     "ename": "ValueError",
     "evalue": "\nCan't calculate derivative wrt conjugate(x).",
     "output_type": "error",
     "traceback": [
      "\u001B[1;31m---------------------------------------------------------------------------\u001B[0m",
      "\u001B[1;31mValueError\u001B[0m                                Traceback (most recent call last)",
      "\u001B[1;32m<ipython-input-32-2ecc53e6134d>\u001B[0m in \u001B[0;36m<module>\u001B[1;34m\u001B[0m\n\u001B[1;32m----> 1\u001B[1;33m \u001B[0mdiff\u001B[0m\u001B[1;33m(\u001B[0m\u001B[0mx\u001B[0m\u001B[1;33m,\u001B[0m \u001B[0mx\u001B[0m\u001B[1;33m.\u001B[0m\u001B[0mconjugate\u001B[0m\u001B[1;33m(\u001B[0m\u001B[1;33m)\u001B[0m\u001B[1;33m)\u001B[0m\u001B[1;33m\u001B[0m\u001B[1;33m\u001B[0m\u001B[0m\n\u001B[0m",
      "\u001B[1;32mc:\\users\\van20\\appdata\\local\\programs\\python\\python37\\lib\\site-packages\\sympy\\core\\function.py\u001B[0m in \u001B[0;36mdiff\u001B[1;34m(f, *symbols, **kwargs)\u001B[0m\n\u001B[0;32m   2497\u001B[0m     \"\"\"\n\u001B[0;32m   2498\u001B[0m     \u001B[1;32mif\u001B[0m \u001B[0mhasattr\u001B[0m\u001B[1;33m(\u001B[0m\u001B[0mf\u001B[0m\u001B[1;33m,\u001B[0m \u001B[1;34m'diff'\u001B[0m\u001B[1;33m)\u001B[0m\u001B[1;33m:\u001B[0m\u001B[1;33m\u001B[0m\u001B[1;33m\u001B[0m\u001B[0m\n\u001B[1;32m-> 2499\u001B[1;33m         \u001B[1;32mreturn\u001B[0m \u001B[0mf\u001B[0m\u001B[1;33m.\u001B[0m\u001B[0mdiff\u001B[0m\u001B[1;33m(\u001B[0m\u001B[1;33m*\u001B[0m\u001B[0msymbols\u001B[0m\u001B[1;33m,\u001B[0m \u001B[1;33m**\u001B[0m\u001B[0mkwargs\u001B[0m\u001B[1;33m)\u001B[0m\u001B[1;33m\u001B[0m\u001B[1;33m\u001B[0m\u001B[0m\n\u001B[0m\u001B[0;32m   2500\u001B[0m     \u001B[0mkwargs\u001B[0m\u001B[1;33m.\u001B[0m\u001B[0msetdefault\u001B[0m\u001B[1;33m(\u001B[0m\u001B[1;34m'evaluate'\u001B[0m\u001B[1;33m,\u001B[0m \u001B[1;32mTrue\u001B[0m\u001B[1;33m)\u001B[0m\u001B[1;33m\u001B[0m\u001B[1;33m\u001B[0m\u001B[0m\n\u001B[0;32m   2501\u001B[0m     \u001B[1;32mreturn\u001B[0m \u001B[0m_derivative_dispatch\u001B[0m\u001B[1;33m(\u001B[0m\u001B[0mf\u001B[0m\u001B[1;33m,\u001B[0m \u001B[1;33m*\u001B[0m\u001B[0msymbols\u001B[0m\u001B[1;33m,\u001B[0m \u001B[1;33m**\u001B[0m\u001B[0mkwargs\u001B[0m\u001B[1;33m)\u001B[0m\u001B[1;33m\u001B[0m\u001B[1;33m\u001B[0m\u001B[0m\n",
      "\u001B[1;32mc:\\users\\van20\\appdata\\local\\programs\\python\\python37\\lib\\site-packages\\sympy\\core\\expr.py\u001B[0m in \u001B[0;36mdiff\u001B[1;34m(self, *symbols, **assumptions)\u001B[0m\n\u001B[0;32m   3526\u001B[0m     \u001B[1;32mdef\u001B[0m \u001B[0mdiff\u001B[0m\u001B[1;33m(\u001B[0m\u001B[0mself\u001B[0m\u001B[1;33m,\u001B[0m \u001B[1;33m*\u001B[0m\u001B[0msymbols\u001B[0m\u001B[1;33m,\u001B[0m \u001B[1;33m**\u001B[0m\u001B[0massumptions\u001B[0m\u001B[1;33m)\u001B[0m\u001B[1;33m:\u001B[0m\u001B[1;33m\u001B[0m\u001B[1;33m\u001B[0m\u001B[0m\n\u001B[0;32m   3527\u001B[0m         \u001B[0massumptions\u001B[0m\u001B[1;33m.\u001B[0m\u001B[0msetdefault\u001B[0m\u001B[1;33m(\u001B[0m\u001B[1;34m\"evaluate\"\u001B[0m\u001B[1;33m,\u001B[0m \u001B[1;32mTrue\u001B[0m\u001B[1;33m)\u001B[0m\u001B[1;33m\u001B[0m\u001B[1;33m\u001B[0m\u001B[0m\n\u001B[1;32m-> 3528\u001B[1;33m         \u001B[1;32mreturn\u001B[0m \u001B[0m_derivative_dispatch\u001B[0m\u001B[1;33m(\u001B[0m\u001B[0mself\u001B[0m\u001B[1;33m,\u001B[0m \u001B[1;33m*\u001B[0m\u001B[0msymbols\u001B[0m\u001B[1;33m,\u001B[0m \u001B[1;33m**\u001B[0m\u001B[0massumptions\u001B[0m\u001B[1;33m)\u001B[0m\u001B[1;33m\u001B[0m\u001B[1;33m\u001B[0m\u001B[0m\n\u001B[0m\u001B[0;32m   3529\u001B[0m \u001B[1;33m\u001B[0m\u001B[0m\n\u001B[0;32m   3530\u001B[0m     \u001B[1;31m###########################################################################\u001B[0m\u001B[1;33m\u001B[0m\u001B[1;33m\u001B[0m\u001B[1;33m\u001B[0m\u001B[0m\n",
      "\u001B[1;32mc:\\users\\van20\\appdata\\local\\programs\\python\\python37\\lib\\site-packages\\sympy\\core\\function.py\u001B[0m in \u001B[0;36m_derivative_dispatch\u001B[1;34m(expr, *variables, **kwargs)\u001B[0m\n\u001B[0;32m   1921\u001B[0m         \u001B[1;32mfrom\u001B[0m \u001B[0msympy\u001B[0m\u001B[1;33m.\u001B[0m\u001B[0mtensor\u001B[0m\u001B[1;33m.\u001B[0m\u001B[0marray\u001B[0m\u001B[1;33m.\u001B[0m\u001B[0marray_derivatives\u001B[0m \u001B[1;32mimport\u001B[0m \u001B[0mArrayDerivative\u001B[0m\u001B[1;33m\u001B[0m\u001B[1;33m\u001B[0m\u001B[0m\n\u001B[0;32m   1922\u001B[0m         \u001B[1;32mreturn\u001B[0m \u001B[0mArrayDerivative\u001B[0m\u001B[1;33m(\u001B[0m\u001B[0mexpr\u001B[0m\u001B[1;33m,\u001B[0m \u001B[1;33m*\u001B[0m\u001B[0mvariables\u001B[0m\u001B[1;33m,\u001B[0m \u001B[1;33m**\u001B[0m\u001B[0mkwargs\u001B[0m\u001B[1;33m)\u001B[0m\u001B[1;33m\u001B[0m\u001B[1;33m\u001B[0m\u001B[0m\n\u001B[1;32m-> 1923\u001B[1;33m     \u001B[1;32mreturn\u001B[0m \u001B[0mDerivative\u001B[0m\u001B[1;33m(\u001B[0m\u001B[0mexpr\u001B[0m\u001B[1;33m,\u001B[0m \u001B[1;33m*\u001B[0m\u001B[0mvariables\u001B[0m\u001B[1;33m,\u001B[0m \u001B[1;33m**\u001B[0m\u001B[0mkwargs\u001B[0m\u001B[1;33m)\u001B[0m\u001B[1;33m\u001B[0m\u001B[1;33m\u001B[0m\u001B[0m\n\u001B[0m\u001B[0;32m   1924\u001B[0m \u001B[1;33m\u001B[0m\u001B[0m\n\u001B[0;32m   1925\u001B[0m \u001B[1;33m\u001B[0m\u001B[0m\n",
      "\u001B[1;32mc:\\users\\van20\\appdata\\local\\programs\\python\\python37\\lib\\site-packages\\sympy\\core\\function.py\u001B[0m in \u001B[0;36m__new__\u001B[1;34m(cls, expr, *variables, **kwargs)\u001B[0m\n\u001B[0;32m   1348\u001B[0m                 raise ValueError(filldedent('''\n\u001B[0;32m   1349\u001B[0m                     Can't calculate derivative wrt %s.%s''' % (v,\n\u001B[1;32m-> 1350\u001B[1;33m                     __)))\n\u001B[0m\u001B[0;32m   1351\u001B[0m \u001B[1;33m\u001B[0m\u001B[0m\n\u001B[0;32m   1352\u001B[0m         \u001B[1;31m# We make a special case for 0th derivative, because there is no\u001B[0m\u001B[1;33m\u001B[0m\u001B[1;33m\u001B[0m\u001B[1;33m\u001B[0m\u001B[0m\n",
      "\u001B[1;31mValueError\u001B[0m: \nCan't calculate derivative wrt conjugate(x)."
     ]
    }
   ],
   "source": [
    "diff\n",
    "diff(x, x.conjugate())"
   ],
   "metadata": {
    "collapsed": false,
    "pycharm": {
     "name": "#%%\n"
    }
   }
  },
  {
   "cell_type": "code",
   "execution_count": 33,
   "outputs": [
    {
     "name": "stdout",
     "output_type": "stream",
     "text": [
      "_\n",
      "x\n"
     ]
    }
   ],
   "source": [
    "pprint(x.conjugate())"
   ],
   "metadata": {
    "collapsed": false,
    "pycharm": {
     "name": "#%%\n"
    }
   }
  }
 ],
 "metadata": {
  "kernelspec": {
   "display_name": "Python 3",
   "language": "python",
   "name": "python3"
  },
  "language_info": {
   "codemirror_mode": {
    "name": "ipython",
    "version": 2
   },
   "file_extension": ".py",
   "mimetype": "text/x-python",
   "name": "python",
   "nbconvert_exporter": "python",
   "pygments_lexer": "ipython2",
   "version": "2.7.6"
  }
 },
 "nbformat": 4,
 "nbformat_minor": 0
}